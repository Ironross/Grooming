{
 "cells": [
  {
   "cell_type": "markdown",
   "id": "afcbe343",
   "metadata": {},
   "source": [
    "<h1 style=\"text-align:center; color:#48DC43;\">Análisis de competencia en Grooming</h1>                 <Lo usamos para agregar título>\n",
    "<h5 style=\"text-align:center;\"> Rosbin López Ramírez </h5>                               <Lo usamos para agregar un  subtítulo, como el autor>\n",
    "<h6 style=\"text-align:center; color:#FD9A03;\">Pet Place CR</h6>              <Lo usamos para agregar la materia> \n"
   ]
  },
  {
   "cell_type": "code",
   "execution_count": 3,
   "id": "8d818234",
   "metadata": {},
   "outputs": [
    {
     "name": "stdout",
     "output_type": "stream",
     "text": [
      "              SERVICIO DOGMATICO   ROOF  MY PET HOUSE KINGDOM PAWS  PROMEDIO  \\\n",
      "0    GROOMING DE 0-5KG     12220  13000       14000.0        15000  13555.00   \n",
      "1   GROOMING DE 5-10KG     13445  16500       14000.0        15000  14736.25   \n",
      "2  GROOMING DE 10-20KG     19555  18000       15000.0        20000  18138.75   \n",
      "3  GROOMING DE 20-30KG     23220  26500       23000.0        25000  24430.00   \n",
      "4    GROOMING DE 30KG+     34220  30000       27000.0        25000  29055.00   \n",
      "\n",
      "   GROMMING BELEN   KANKTS  PAULAS GROMER  PETSPOIN  JPETSCR  PETS MARKET  \\\n",
      "0         10000.0  10000.0        12000.0   16900.0      NaN          NaN   \n",
      "1         15000.0  15500.0        14000.0       NaN      NaN          NaN   \n",
      "2         16600.0  19500.0        18000.0       NaN      NaN          NaN   \n",
      "3         19000.0  26500.0        25000.0   26500.0      NaN          NaN   \n",
      "4         25000.0  35000.0        30000.0       NaN      NaN          NaN   \n",
      "\n",
      "        PRECIO   \n",
      "0  12963.888889  \n",
      "1  14772.656250  \n",
      "2  18099.218750  \n",
      "3  24350.000000  \n",
      "4  29409.375000  \n"
     ]
    }
   ],
   "source": [
    "# Importar librerías necesarias\n",
    "import pandas as pd\n",
    "import matplotlib.pyplot as plt\n",
    "\n",
    "# Cargar los datos desde un archivo Excel\n",
    "archivo_excel = 'C:\\\\Users\\\\ironr\\\\OneDrive\\\\Escritorio\\\\Grooming\\\\Analisis de competencia en Grooming.xlsx'\n",
    "df = pd.read_excel(archivo_excel)\n",
    "\n",
    "# Mostrar las primeras filas del DataFrame para verificar la carga correcta de los datos\n",
    "print(df.head())"
   ]
  },
  {
   "cell_type": "code",
   "execution_count": 5,
   "id": "f5ff796a",
   "metadata": {},
   "outputs": [
    {
     "name": "stdout",
     "output_type": "stream",
     "text": [
      "      Competencia  Latitud  Longitud  Distancia (km)\n",
      "0       DOGMATICO   9.9347  -84.0875       14.991560\n",
      "1            ROOF   9.9391  -84.0841       15.101209\n",
      "2    MY PET HOUSE   9.9285  -84.0907       15.027775\n",
      "3    KINGDOM PAWS   9.9254  -84.0912       15.162416\n",
      "4  GROOMING BELEN   9.9328  -84.0847       15.361698\n",
      "5          KANKTS   9.9317  -84.0865       15.247470\n",
      "6   PAULAS GROMER   9.9343  -84.0882       14.945143\n",
      "7     PETS MARKET   9.9387  -84.0897       14.571890\n",
      "8         JPETSCR   9.9356  -84.0853       15.158124\n",
      "9        PETSPOIN   9.9374  -84.0868       14.920515\n"
     ]
    }
   ],
   "source": [
    "from math import radians, sin, cos, sqrt, atan2\n",
    "\n",
    "# Coordenadas de tu ubicación (latitud, longitud)\n",
    "ubicacion_objetivo = (9.9983, -84.2082)  # Latitud y longitud de XRP7+3CF, C. Arbolito, Heredia\n",
    "\n",
    "# Datos de las competencias con sus coordenadas de ejemplo\n",
    "datos_competencias = {\n",
    "    'Competencia': ['DOGMATICO', 'ROOF', 'MY PET HOUSE', 'KINGDOM PAWS', 'GROOMING BELEN', 'KANKTS', 'PAULAS GROMER', 'PETS MARKET', 'JPETSCR', 'PETSPOIN'],\n",
    "    'Latitud': [9.9347, 9.9391, 9.9285, 9.9254, 9.9328, 9.9317, 9.9343, 9.9387, 9.9356, 9.9374],\n",
    "    'Longitud': [-84.0875, -84.0841, -84.0907, -84.0912, -84.0847, -84.0865, -84.0882, -84.0897, -84.0853, -84.0868]\n",
    "}\n",
    "\n",
    "# Crear un DataFrame\n",
    "df_competencias = pd.DataFrame(datos_competencias)\n",
    "\n",
    "# Función para calcular la distancia entre dos puntos geográficos\n",
    "def calcular_distancia(lat1, lon1, lat2, lon2):\n",
    "    R = 6371.0  # Radio de la Tierra en km\n",
    "    dlat = radians(lat2 - lat1)\n",
    "    dlon = radians(lon2 - lon1)\n",
    "    a = sin(dlat / 2)**2 + cos(radians(lat1)) * cos(radians(lat2)) * sin(dlon / 2)**2\n",
    "    c = 2 * atan2(sqrt(a), sqrt(1 - a))\n",
    "    distancia = R * c\n",
    "    return distancia\n",
    "\n",
    "# Calcular la distancia de cada competencia a la ubicación objetivo\n",
    "df_competencias['Distancia (km)'] = df_competencias.apply(\n",
    "    lambda row: calcular_distancia(ubicacion_objetivo[0], ubicacion_objetivo[1], row['Latitud'], row['Longitud']),\n",
    "    axis=1\n",
    ")\n",
    "\n",
    "# Mostrar la tabla con las distancias calculadas\n",
    "print(df_competencias)\n"
   ]
  },
  {
   "cell_type": "code",
   "execution_count": null,
   "id": "a77dbd6f",
   "metadata": {},
   "outputs": [],
   "source": []
  },
  {
   "cell_type": "code",
   "execution_count": null,
   "id": "156cb4a2",
   "metadata": {},
   "outputs": [],
   "source": []
  },
  {
   "cell_type": "code",
   "execution_count": null,
   "id": "cedc88df",
   "metadata": {},
   "outputs": [],
   "source": []
  }
 ],
 "metadata": {
  "kernelspec": {
   "display_name": "Python 3 (ipykernel)",
   "language": "python",
   "name": "python3"
  },
  "language_info": {
   "codemirror_mode": {
    "name": "ipython",
    "version": 3
   },
   "file_extension": ".py",
   "mimetype": "text/x-python",
   "name": "python",
   "nbconvert_exporter": "python",
   "pygments_lexer": "ipython3",
   "version": "3.11.7"
  }
 },
 "nbformat": 4,
 "nbformat_minor": 5
}
